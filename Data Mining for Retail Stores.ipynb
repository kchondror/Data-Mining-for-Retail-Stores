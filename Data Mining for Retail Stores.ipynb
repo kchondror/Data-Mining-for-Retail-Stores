{
 "cells": [
  {
   "cell_type": "markdown",
   "id": "4d5bbfd0",
   "metadata": {},
   "source": [
    "# Data Mining for Retail Stores\n",
    "> - ***Ονοματεπώνυμο : Κωνσταντίνος - Ηλίας Χονδρορρίζος***\n",
    "> - ***Α.Ε.Μ. : 3812***"
   ]
  },
  {
   "cell_type": "code",
   "execution_count": null,
   "id": "333c9b20",
   "metadata": {},
   "outputs": [],
   "source": [
    "# Importing the required libraries.\n",
    "import numpy as np\n",
    "import pandas as pd\n",
    "import matplotlib.pyplot as plt\n",
    "import seaborn as sns\n",
    "from sklearn import preprocessing\n",
    "\n",
    "pd.set_option('display.max_columns', None)\n",
    "sns.set_theme(style=\"whitegrid\", palette=\"dark:#5A9_r\")\n"
   ]
  },
  {
   "cell_type": "markdown",
   "id": "265046b4",
   "metadata": {},
   "source": [
    "### Raw data manipulation:\n",
    " 1. Starting off this project, lets start by loading the data from the csv file.\n",
    " 2. After that, I am going to drop the requested items,\n",
    " 3. one hot encoding to the items,\n",
    " 4. perform differentiation of the basket_value attribute,\n",
    " 5. and visualize the data using various techniques."
   ]
  },
  {
   "cell_type": "code",
   "execution_count": null,
   "id": "e3f75533",
   "metadata": {
    "scrolled": true
   },
   "outputs": [],
   "source": [
    "transactions = pd.read_csv(\"GroceriesInitial.csv\")\n",
    "print(f\"Total rows: {len(transactions)}\")\n",
    "transactions.head()"
   ]
  },
  {
   "cell_type": "code",
   "execution_count": null,
   "id": "80205952",
   "metadata": {},
   "outputs": [],
   "source": [
    "fig, axes = plt.subplots(figsize=(15,5))\n",
    "\n",
    "sns.scatterplot(ax = axes, data = transactions, x = \"recency_days\", y = \"Item_10\", color=\"indigo\")\n",
    "sns.scatterplot(ax = axes, data = transactions, x = \"recency_days\", y = \"Item_16\", color=\"lime\")\n",
    "plt.legend([\"Less than 10 items\",\"More than 15 items\"])\n",
    "plt.yticks([])\n",
    "plt.ylabel(\"Items\")\n",
    "\n",
    "fig = plt.figure(figsize=(15,5))\n",
    "sns.lineplot(data = transactions, x = \"recency_days\", y = \"basket_value\")\n",
    "plt.legend([\"Basket cost\"])\n",
    "plt.show()"
   ]
  },
  {
   "cell_type": "raw",
   "id": "3e1eabc2",
   "metadata": {},
   "source": [
    "In the scatter plot above, we can observe a 30-day gap during which transactions involving more than 15 items in the basket are not recorded. This is also reflected in the mean basket value during that period, as shown in the second plot."
   ]
  },
  {
   "cell_type": "code",
   "execution_count": null,
   "id": "e2e4e405",
   "metadata": {},
   "outputs": [],
   "source": [
    "def isNaN(num):\n",
    "    return num == num\n",
    "\n",
    "for index,i in enumerate(transactions[\"Item_32\"]):\n",
    "    if isNaN(i):\n",
    "        print(index)\n",
    "    "
   ]
  },
  {
   "cell_type": "code",
   "execution_count": null,
   "id": "681226e1",
   "metadata": {
    "scrolled": true
   },
   "outputs": [],
   "source": [
    "PRODUCTS = [\"citrus fruit\", \"tropical fruit\", \"whole milk\", \"other vegetables\", \"rolls/buns\", \"chocolate\", \n",
    "            \"bottled water\", \"yogurt\", \"sausage\", \"root vegetables\", \"pastry\", \"soda\", \"cream\"]\n",
    "def keep_products(product):\n",
    "    if product in PRODUCTS:\n",
    "        return product\n",
    "    \n",
    "    return float(\"nan\")\n",
    "\n",
    "info_cols = transactions.iloc[:,:3]\n",
    "item_cols = transactions.iloc[:, 3:].applymap(lambda x :keep_products(x))"
   ]
  },
  {
   "cell_type": "code",
   "execution_count": null,
   "id": "8890c78b",
   "metadata": {
    "scrolled": true
   },
   "outputs": [],
   "source": [
    "ids = []\n",
    "\n",
    "one_hot_items = np.empty([0,13], dtype = np.int8)\n",
    "\n",
    "for index,row in item_cols.iterrows():\n",
    "    if row.isnull().sum() == 32:\n",
    "        ids.append(index)\n",
    "    else:\n",
    "        transact = np.zeros(shape=(1, 13) ,dtype = np.int8)\n",
    "        for i in row.dropna().tolist():\n",
    "            transact[0,PRODUCTS.index(i)] = 1\n",
    "        one_hot_items = np.vstack((one_hot_items, transact))\n",
    "        \n",
    "items = pd.DataFrame(one_hot_items, columns=PRODUCTS)        "
   ]
  },
  {
   "cell_type": "code",
   "execution_count": null,
   "id": "f031013f",
   "metadata": {
    "scrolled": true
   },
   "outputs": [],
   "source": [
    "transactions = pd.concat([info_cols.drop(ids).reset_index(drop=True), items], axis=1)\n",
    "transactions.head()"
   ]
  },
  {
   "cell_type": "code",
   "execution_count": null,
   "id": "935b7791",
   "metadata": {
    "scrolled": false
   },
   "outputs": [],
   "source": [
    "transactions.describe(percentiles=[.33,.66]).T"
   ]
  },
  {
   "cell_type": "code",
   "execution_count": null,
   "id": "216a6d86",
   "metadata": {},
   "outputs": [],
   "source": [
    "fig = plt.figure(figsize=(15,5))\n",
    "sns.histplot(transactions[\"basket_value\"], kde=True)\n",
    "\n",
    "plt.show()"
   ]
  },
  {
   "cell_type": "raw",
   "id": "b52ca0d0",
   "metadata": {},
   "source": [
    "Based on the distribution plot in the previous cell, it is evident that the majority of transactions involve low-value purchases. As the basket value increases, fewer transactions are observed. This suggests that the store may be a mini market, where customers typically buy a limited number of items at lower costs."
   ]
  },
  {
   "cell_type": "code",
   "execution_count": null,
   "id": "264f35ec",
   "metadata": {},
   "outputs": [],
   "source": [
    "print(f\"First bucket :  {len(transactions.loc[transactions['basket_value'] < 2.9])}\")\n",
    "print(f\"Second bucket: {len(transactions.loc[(transactions['basket_value'] < 6.3) & (transactions['basket_value'] >= 2.9)])}\")\n",
    "print(f\"Third bucket :  {len(transactions.loc[transactions['basket_value'] >= 6.3])}\")"
   ]
  },
  {
   "cell_type": "code",
   "execution_count": null,
   "id": "9e506750",
   "metadata": {
    "scrolled": true
   },
   "outputs": [],
   "source": [
    "transactions.loc[transactions['basket_value'] < 2.9, 'basket_value'] = 0\n",
    "transactions.loc[(transactions['basket_value'] < 6.3) & (transactions['basket_value'] >= 2.9), 'basket_value'] = 0.5\n",
    "transactions.loc[transactions['basket_value'] >= 6.3, 'basket_value'] = 1"
   ]
  },
  {
   "cell_type": "code",
   "execution_count": null,
   "id": "57a977d8",
   "metadata": {
    "scrolled": false
   },
   "outputs": [],
   "source": [
    "dictionary = {}\n",
    "for i in PRODUCTS:\n",
    "    dictionary[i] = transactions[i].sum()\n",
    "    \n",
    "    \n",
    "fig = plt.figure(figsize=(15,5))\n",
    "sns.barplot(x = list(dictionary.keys()), y = list(dictionary.values()), palette=\"dark:#5A9_r\")\n",
    "plt.xticks(rotation=45)\n",
    "plt.show()"
   ]
  },
  {
   "cell_type": "raw",
   "id": "0e6a4931",
   "metadata": {},
   "source": [
    "The dataset shows that whole milk is the most frequently purchased item, whereas cream is the least popular."
   ]
  },
  {
   "cell_type": "code",
   "execution_count": null,
   "id": "539b9962",
   "metadata": {},
   "outputs": [],
   "source": [
    "fig = plt.figure(figsize=(15,5))\n",
    "pd.plotting.andrews_curves(transactions.iloc[:100,1:], 'basket_value')\n",
    "plt.show()"
   ]
  },
  {
   "cell_type": "raw",
   "id": "39722f42",
   "metadata": {},
   "source": [
    "Through the use of Andrews curves, we are able to visualize the relationships among multi-dimensional records and color them based on their basket value. With a focus on the first 100 records, we can clearly observe that transactions with similar costs are closely clustered together."
   ]
  },
  {
   "cell_type": "raw",
   "id": "cf62e92d",
   "metadata": {},
   "source": [
    "Finally, let's apply a min-max scaler to the 'recency_days' attribute to ensure that the algorithms we perform later are not biased and can be carried out more easily."
   ]
  },
  {
   "cell_type": "code",
   "execution_count": null,
   "id": "dc3453b9",
   "metadata": {},
   "outputs": [],
   "source": [
    "scaleWorlds within Worldsr = preprocessing.MinMaxScaler()\n",
    "transactions[['recency_days']] = scaler.fit_transform(transactions[['recency_days']])"
   ]
  }
 ],
 "metadata": {
  "kernelspec": {
   "display_name": "venv",
   "language": "python",
   "name": "venv"
  },
  "language_info": {
   "codemirror_mode": {
    "name": "ipython",
    "version": 3
   },
   "file_extension": ".py",
   "mimetype": "text/x-python",
   "name": "python",
   "nbconvert_exporter": "python",
   "pygments_lexer": "ipython3",
   "version": "3.11.3"
  }
 },
 "nbformat": 4,
 "nbformat_minor": 5
}
